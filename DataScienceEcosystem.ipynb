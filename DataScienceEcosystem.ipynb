{
 "cells": [
  {
   "cell_type": "markdown",
   "id": "d6fc71d1-c8bc-4446-b7f2-fd80a8638b74",
   "metadata": {},
   "source": [
    "# Data Science Tools and Ecosystem"
   ]
  },
  {
   "cell_type": "markdown",
   "id": "7c97f504-bbae-47e2-b127-33e9d70395ff",
   "metadata": {},
   "source": [
    "# Data Science Tools and Ecosystem"
   ]
  },
  {
   "cell_type": "markdown",
   "id": "ea897484-be6d-469c-8645-950554523df7",
   "metadata": {},
   "source": [
    "In this notebook, Data Science Tools and Ecosystem are summarized."
   ]
  },
  {
   "cell_type": "markdown",
   "id": "aa3c78eb-60c1-4888-9306-a652b6cb702e",
   "metadata": {},
   "source": [
    "In this notebook, Data Science Tools and Ecosystem are summarized."
   ]
  },
  {
   "cell_type": "markdown",
   "id": "7cf9c9b9-d198-46b8-aa64-4b36ac52bf87",
   "metadata": {},
   "source": [
    "**Objectives**\n",
    "\n",
    "<ul> <li>Numbered list commonly used languages for data science.</li> \n",
    "     <li>Ordered list commonly used libraries in data science.</li>\n",
    "     <li>Single column table about development environment open source tools used in data science.</li>\n",
    "</ul>"
   ]
  },
  {
   "cell_type": "markdown",
   "id": "ddd8a362-1a98-4bc2-84c1-4687e90654dc",
   "metadata": {},
   "source": [
    "**Objectives**\n",
    "\n",
    "<ul> <li>Numbered list commonly used languages for data science.</li> \n",
    "     <li>Ordered list commonly used libraries in data science.</li>\n",
    "     <li>Single column table about development environment open source tools used in data science.</li>\n",
    "</ul>"
   ]
  },
  {
   "cell_type": "markdown",
   "id": "d3b484a5-2d1b-44d8-9422-d586c6dd2193",
   "metadata": {},
   "source": [
    "Some of the popular languages that Data Scientists use are: <ol> <li>python</li> <li>R</li> <li>SQL</li> <li>Java</li> </ol>"
   ]
  },
  {
   "cell_type": "markdown",
   "id": "45bf7bba-79c6-4a9e-82f8-ee28035788fe",
   "metadata": {},
   "source": [
    "Some of the popular languages that Data Scientists use are: <ol> <li>python</li> <li>R</li> <li>SQL</li> <li>Java</li> </ol>"
   ]
  },
  {
   "cell_type": "markdown",
   "id": "82a2cb1f-6fef-4ede-89c3-b8aefc78781d",
   "metadata": {},
   "source": [
    "Some of the commonly used libraries used by Data Scientists include:\n",
    "<ul> <li>Numpy</li> <li>Pandas</li> <li>Matplotlib</li> <li>Scikit-learn</li> </ul>"
   ]
  },
  {
   "cell_type": "markdown",
   "id": "8ea46230-c567-4209-bc5e-0b78c259d2d2",
   "metadata": {},
   "source": [
    "Some of the commonly used libraries used by Data Scientists include:\n",
    "<ul> <li>Numpy</li> <li>Pandas</li> <li>Matplotlib</li> <li>Scikit-learn</li> </ul>"
   ]
  },
  {
   "cell_type": "markdown",
   "id": "e71b09e7-4ac2-4fc1-acaa-88e85a072e29",
   "metadata": {},
   "source": [
    "| Data Science Tools  |||\n",
    "|-------------|-------------|-------------|\n",
    "| Apache Hadoop   | Git Hub   | Anaconda   |"
   ]
  },
  {
   "cell_type": "markdown",
   "id": "1b11c935-09aa-4dd1-8547-5fedf64a8ffa",
   "metadata": {},
   "source": [
    "| Data Science Tools  |||\n",
    "|-------------|-------------|-------------|\n",
    "| Apache Hadoop   | Git Hub   | Anaconda   |"
   ]
  },
  {
   "cell_type": "markdown",
   "id": "40dbd697-2e9d-48d8-9a54-6eba65482297",
   "metadata": {},
   "source": [
    "<h3>Below are a few examples of evaluating arithmetic expressions in Python<h3>"
   ]
  },
  {
   "cell_type": "markdown",
   "id": "1734b1a2-e2e3-4528-bc89-854de44af5da",
   "metadata": {},
   "source": [
    "<h3>Below are a few examples of evaluating arithmetic expressions in Python<h3>"
   ]
  },
  {
   "cell_type": "code",
   "execution_count": 5,
   "id": "8a23e115-5bc2-44fb-9230-eafdc7c37b36",
   "metadata": {
    "tags": []
   },
   "outputs": [
    {
     "data": {
      "text/plain": [
       "17"
      ]
     },
     "execution_count": 5,
     "metadata": {},
     "output_type": "execute_result"
    }
   ],
   "source": [
    "# This a simple arithmetic expression to mutiply then add integers\n",
    "(3*4)+5"
   ]
  },
  {
   "cell_type": "code",
   "execution_count": 6,
   "id": "ba791760-8e57-453a-a13c-ce1e39d78579",
   "metadata": {
    "tags": []
   },
   "outputs": [
    {
     "data": {
      "text/plain": [
       "3.3333333333333335"
      ]
     },
     "execution_count": 6,
     "metadata": {},
     "output_type": "execute_result"
    }
   ],
   "source": [
    "# This will convert 200 minutes to hours by diving by 60\n",
    "200/60"
   ]
  },
  {
   "cell_type": "markdown",
   "id": "39312b4f-3642-4e68-a8d7-c53e5d7ec03c",
   "metadata": {},
   "source": [
    "## Author\n",
    "Daisuke Kajiya"
   ]
  },
  {
   "cell_type": "markdown",
   "id": "225c7965-2f5c-4758-bcd3-02c497b86343",
   "metadata": {},
   "source": [
    "## Author\n",
    "Daisuke Kajiya"
   ]
  },
  {
   "cell_type": "code",
   "execution_count": null,
   "id": "f1663be2-0286-4a10-9dc1-4e5e2c963103",
   "metadata": {},
   "outputs": [],
   "source": []
  }
 ],
 "metadata": {
  "kernelspec": {
   "display_name": "Python",
   "language": "python",
   "name": "conda-env-python-py"
  },
  "language_info": {
   "codemirror_mode": {
    "name": "ipython",
    "version": 3
   },
   "file_extension": ".py",
   "mimetype": "text/x-python",
   "name": "python",
   "nbconvert_exporter": "python",
   "pygments_lexer": "ipython3",
   "version": "3.7.12"
  }
 },
 "nbformat": 4,
 "nbformat_minor": 5
}
